{
 "cells": [
  {
   "cell_type": "markdown",
   "id": "c31e08b0-f551-4d67-b95e-41f49de3b392",
   "metadata": {},
   "source": [
    "<font size=\"1\">\n",
    "Supplementary code for \"Building a Large Language Model From Scratch\" from <a href=\"https://theskillpedia.com\">The SkillPedia</a><br>\n",
    "Code repository: <a href=\"https://github.com/Sangwan70/Building-an-LLM-From-Scratch\">https://github.com/Sangwan70/Building-an-LLM-From-Scratch</a>\n",
    "</font>"
   ]
  },
  {
   "cell_type": "code",
   "execution_count": 1,
   "id": "67f6f7ed-b67d-465b-bf6f-a99b0d996930",
   "metadata": {},
   "outputs": [
    {
     "name": "stdout",
     "output_type": "stream",
     "text": [
      "[OK] Your Python version is 3.12.6\n",
      "[OK] torch 2.4.0\n",
      "[OK] jupyterlab 4.3.3\n",
      "[OK] tiktoken 0.7.0\n",
      "[OK] matplotlib 3.9.2\n",
      "[OK] tensorflow 2.18.0\n",
      "[OK] tqdm 4.67.1\n",
      "[OK] numpy 1.26.4\n",
      "[OK] pandas 2.2.3\n",
      "[OK] psutil 6.1.0\n"
     ]
    }
   ],
   "source": [
    "from python_environment_check import check_packages, get_requirements_dict\n",
    "\n",
    "d = get_requirements_dict()\n",
    "check_packages(d)"
   ]
  },
  {
   "cell_type": "code",
   "execution_count": null,
   "id": "2a9793df-f492-4a1e-8508-59782afb5fbc",
   "metadata": {},
   "outputs": [],
   "source": []
  }
 ],
 "metadata": {
  "kernelspec": {
   "display_name": "Python 3.12 (ipykernel)",
   "language": "python",
   "name": "python3"
  },
  "language_info": {
   "codemirror_mode": {
    "name": "ipython",
    "version": 3
   },
   "file_extension": ".py",
   "mimetype": "text/x-python",
   "name": "python",
   "nbconvert_exporter": "python",
   "pygments_lexer": "ipython3",
   "version": "3.12.6"
  }
 },
 "nbformat": 4,
 "nbformat_minor": 5
}
